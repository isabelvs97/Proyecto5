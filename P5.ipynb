{
 "cells": [
  {
   "cell_type": "markdown",
   "metadata": {},
   "source": [
    "---\n",
    "\n",
    "## Universidad de Costa Rica\n",
    "### Escuela de Ingeniería Eléctrica\n",
    "#### IE0405 - Modelos Probabilísticos de Señales y Sistemas\n",
    "\n",
    "Segundo semestre del 2020\n",
    "\n",
    "---\n",
    "\n",
    "* Estudiante: **Isabel Vargas Sibaja**\n",
    "* Carné: **B57628**\n",
    "* Grupo: **1**\n",
    "\n",
    "\n",
    "# `P5` - Análisis y predicción del consumo diario de energía\n",
    "\n",
    "> Esta actividad extiende el análisis y modelado realizados anteriormente sobre la demanda eléctrica del país a partir de una base de datos del Instituto Costarricense de Electricidad, del 2019. El estudio se orienta ahora en el uso de las cadenas de Markov para determinar la probabilidad de ocurrencia de múltiples estados para el consumo energético diario.\n",
    "\n",
    "---\n",
    "* Elaboración de nota teórica y demostración: **Jeaustin Sirias Chacón**, como parte de IE0499 - Proyecto Eléctrico: *Estudio y simulación de aplicaciones de la teoría de probabilidad en la ingeniería eléctrica*.\n",
    "* Revisión: **Fabián Abarca Calderón**\n"
   ]
  },
  {
   "cell_type": "markdown",
   "metadata": {},
   "source": [
    "---\n",
    "## 1. - El último vals: *Las cadenas de Markov*\n",
    "\n",
    "En el proyecto programado anterior (`P4` - Modulación digital IQ) se estudiaron los **procesos estocásticos**. Algunos de estos tienen la **propiedad de Markov**, según la cual se puede decir que provoca en el sistema una especie de \"amnesia\" al momento de determinar *valores futuros* y condiciona la determinación de probabilidades a partir **únicamente** de los valores presentes."
   ]
  },
  {
   "cell_type": "markdown",
   "metadata": {},
   "source": [
    "## 2. - Construyendo un modelo energético con cadenas de Markov\n",
    "\n",
    "Con la previa reseña es posible intentar construir un modelo básico para el consumo diario nacional de energía en Costa Rica durante el 2019 con las cadenas de Markov. Para ello se reutilizará la base de datos de demanda energética también empleada en los proyectos programados P2 y P3.\n",
    "\n",
    "### 2.1 - Funciones a implementar \n",
    "\n",
    "A continuación se especificarán las funciones auxiliares a desarrollar, para la construcción de la cadena de Markov:\n",
    "\n",
    "1. `energia_diaria(archivo_json)`: Importa la base de datos completa en formato **JSON** y calcula la energía diaria usando [la regla del trapecio](https://es.wikipedia.org/wiki/Regla_del_trapecio) y retorna un vector con el valor de energía de cada día.\n",
    "\n",
    "2. `definicion_estados(vector_energia, numero_estados)`: Clasifica a cada valor de energía en el rango de 1 a `numero_estados` según el nivel de energía y retorna un vector con cada estado.\n",
    "\n",
    "3. `probabilidad_transicion(vector_estados, numero_estados, presente, futuro)`: Calcula la probabilidad de transición entre un estado inicial $i$ en $t$ y un estado futuro $j$ en $t+1$. Retorna la probabilidad $\\Pi_{i,j}$ de transición entre $i$ y $j$, donde:\n",
    "\n",
    "\\begin{equation}\n",
    "P(X_{t+1} = j \\mid X_{t} = i) = \\Pi_{i,j}\n",
    "\\end{equation}"
   ]
  },
  {
   "cell_type": "markdown",
   "metadata": {},
   "source": [
    "#### 2.1.1 - Calculando el consumo diario y parámetros relevantes con `energia_diaria`"
   ]
  },
  {
   "cell_type": "code",
   "execution_count": 2,
   "metadata": {},
   "outputs": [],
   "source": [
    "import pandas as pd\n",
    "import numpy as np\n",
    "from datetime import datetime\n",
    "\n",
    "def energia_diaria(archivo_json):\n",
    "    '''Importa la base de datos completa y devuelve\n",
    "    un vector con la energía diaria, en MWh.\n",
    "    \n",
    "    :param archivo_json: el contenedor con datos crudos\n",
    "    :return: el vector de energía diaria\n",
    "    '''\n",
    "    # Cargar el \"DataFrame\"\n",
    "    df = pd.read_json(archivo_json) \n",
    "\n",
    "    # Convertir en un array de NumPy\n",
    "    datos = np.array(df)  \n",
    "\n",
    "    # Crear vector con todos los valores horarios de demanda\n",
    "    demanda = []\n",
    "\n",
    "    # Extraer la magnitud de la demanda para todas las horas\n",
    "    for hora in range(len(datos)):\n",
    "        demanda.append(datos[hora][0]['MW'])\n",
    "\n",
    "    # Separar las magnitudes en grupos de 24 (24 h)\n",
    "    demanda = np.split(np.array(demanda), len(demanda) / 24)\n",
    "\n",
    "    # Crear vector para almacenar la energía a partir de la demanda\n",
    "    energia = []\n",
    "\n",
    "    # Calcular la energía diaria por la regla del trapecio\n",
    "    for dia in range(len(demanda)):\n",
    "        E = round(np.trapz(demanda[dia]), 2)\n",
    "        energia.append(E)\n",
    "\n",
    "    return energia "
   ]
  },
  {
   "cell_type": "markdown",
   "metadata": {},
   "source": [
    "#### 2.1.2 -  Definiendo el número de estados de energía con `definir_estados`"
   ]
  },
  {
   "cell_type": "code",
   "execution_count": 3,
   "metadata": {},
   "outputs": [],
   "source": [
    "import numpy as np\n",
    "\n",
    "def definicion_estados(vector_energia, estados):\n",
    "    '''Una función que se encarga de retornar\n",
    "    los límites del rango de energía para\n",
    "    una cantidad arbitraria de estados sobre \n",
    "    la base del vector de energía.\n",
    "    \n",
    "    :param energia: vector de energía diaria\n",
    "    :param estados: el número de estados\n",
    "    :return: el vector de estados\n",
    "    '''\n",
    "    \n",
    "    minimo = np.min(vector_energia)\n",
    "    maximo = np.max(vector_energia)\n",
    "    segmento = (maximo - minimo)/estados\n",
    "    vector_estados = np.empty(len(vector_energia))\n",
    "    \n",
    "    for i, dia in enumerate(vector_energia):\n",
    "        diferencia = dia - minimo\n",
    "        proporcion = diferencia // segmento\n",
    "        vector_estados[i] = proporcion + 1\n",
    "        \n",
    "    return vector_estados"
   ]
  },
  {
   "cell_type": "markdown",
   "metadata": {},
   "source": [
    "#### 2.1.3 - Calculando la ocurrencia de las transiciones por estado con `calcular_transiciones`\n",
    "\n",
    "El objetivo de la función será retornar el número de ocurrencias (y por tanto la frecuencia relativa) de la transición de un estado presente $i$ a un estado próximo $j$; es decir, retorna puntualmente una probabilidad $\\Pi_{ij}$  de transición entre las muchas que puede contener la **matriz de transición** $\\Pi$ en función de sus $N$ estados. Obsérvese la siguiente matriz de estados generalizada:\n",
    "\n",
    "\n",
    "$$\n",
    "\\Pi = \\begin{bmatrix}\n",
    "\\Pi_{11} & \\ldots & \\Pi_{1N} \\\\ \n",
    "\\Pi_{21}& \\ldots & \\Pi_{2N}\\\\ \n",
    "\\vdots& \\ddots & \\vdots\\\\ \n",
    "\\Pi_{N1} & \\ldots & \\Pi_{NN}\n",
    "\\end{bmatrix}\n",
    "$$\n",
    "\n",
    "Puesto que $\\Pi$ siempre es una **matriz cuadrada**, entonces habrá $N^2$ probabilidades de transición dentro de la misma. Ahora, dado a que la función `calcular_transiciones` retorna solo una de estas probabilidades, **por ejecución**.\n",
    "\n",
    "**Nota**: ¿Qué ocurriría si se analiza un proceso con $N=10$ estados? Evidentemente, no sería práctico ejecutar esta función $10^2$ veces para completar la matriz $\\Pi$."
   ]
  },
  {
   "cell_type": "code",
   "execution_count": 4,
   "metadata": {},
   "outputs": [],
   "source": [
    "import numpy as np\n",
    "\n",
    "def probabilidad_transicion(vector_estados, numero_estados, presente, futuro):\n",
    "    '''Una función que se encarga de calcular\n",
    "    la probabilidad de ocurrencia de la transición\n",
    "    entre un estado inicial 'i' y un estado futuro 'j'.\n",
    "    \n",
    "    :param vector_estados: el vector con los todos los estados\n",
    "    :param presente: el número del estado presente\n",
    "    :param futuro: el número del estado futuro\n",
    "    :return: la probabilidad de transición\n",
    "    '''\n",
    "    \n",
    "    # Recorrer el vector_estados\n",
    "    ocurrencias_i = 1\n",
    "    ocurrencias_i_j = 0\n",
    "    for i, estado in enumerate(vector_estados[0:-1]):\n",
    "        if estado == presente:\n",
    "            ocurrencias_i += 1\n",
    "            if vector_estados[i+1] == futuro:\n",
    "                ocurrencias_i_j += 1\n",
    "    \n",
    "    # Cálculo de la probabilidad\n",
    "    \n",
    "    probabilidad = ocurrencias_i_j / ocurrencias_i\n",
    "\n",
    "\n",
    "    \n",
    "    \n",
    "    return probabilidad"
   ]
  },
  {
   "cell_type": "markdown",
   "metadata": {},
   "source": [
    "## 3. - Demostración de las funciones implementadas"
   ]
  },
  {
   "cell_type": "code",
   "execution_count": 5,
   "metadata": {},
   "outputs": [
    {
     "output_type": "stream",
     "name": "stdout",
     "text": [
      "[ 1.  6.  7.  8.  7.  3.  7.  8.  8.  7.  8.  6.  3.  7.  8.  8.  8.  8.\n  7.  4.  8.  8.  8.  9.  9.  7.  4.  9.  9.  9.  9.  8.  7.  4.  8.  9.\n  9.  9.  9.  6.  4.  8.  9. 10. 10.  9.  8.  5.  9. 10. 10. 10. 10.  8.\n  5.  8.  8.  9.  9.  9.  7.  4.  8.  9.  9.  9.  9.  7.  5.  9. 10. 10.\n 10. 10.  8.  5.  9. 10. 10. 10.  9.  7.  5.  9. 10.  9. 10. 10.  8.  5.\n 10. 10. 10. 10.  9.  7.  5.  9. 10. 10.  8. 10.  9.  6. 10.  9.  8.  4.\n  2.  4.  3.  8.  9. 10. 10. 11.  9.  6. 10. 10.  7. 10. 10.  8.  6. 10.\n 10. 10.  9.  9.  7.  5.  9. 10. 10.  9.  9.  7.  4.  8.  9.  8.  9.  8.\n  6.  4.  7.  8.  8.  8.  8.  6.  4.  9.  9.  9.  9.  9.  7.  4.  8.  8.\n  8.  8.  8.  7.  4.  9. 10. 10.  9.  9.  7.  4.  8.  9.  8.  8.  8.  6.\n  4.  7.  8.  8.  8.  8.  6.  4.  7.  8.  8.  8.  8.  6.  3.  7.  8.  9.\n  8.  8.  7.  5.  8.  9.  8.  5.  7.  5.  4.  8.  9.  9.  9.  7.  6.  3.\n  8.  9.  8.  8.  8.  6.  4.  7.  8.  7.  2.  6.  6.  3.  7.  8.  8.  8.\n  8.  7.  4.  8.  9.  9.  8.  8.  6.  4.  8.  8.  8.  8.  8.  6.  3.  7.\n  8.  8.  8.]\n"
     ]
    },
    {
     "output_type": "display_data",
     "data": {
      "text/plain": "<Figure size 432x288 with 1 Axes>",
      "image/svg+xml": "<?xml version=\"1.0\" encoding=\"utf-8\" standalone=\"no\"?>\n<!DOCTYPE svg PUBLIC \"-//W3C//DTD SVG 1.1//EN\"\n  \"http://www.w3.org/Graphics/SVG/1.1/DTD/svg11.dtd\">\n<!-- Created with matplotlib (https://matplotlib.org/) -->\n<svg height=\"262.19625pt\" version=\"1.1\" viewBox=\"0 0 383.003125 262.19625\" width=\"383.003125pt\" xmlns=\"http://www.w3.org/2000/svg\" xmlns:xlink=\"http://www.w3.org/1999/xlink\">\n <metadata>\n  <rdf:RDF xmlns:cc=\"http://creativecommons.org/ns#\" xmlns:dc=\"http://purl.org/dc/elements/1.1/\" xmlns:rdf=\"http://www.w3.org/1999/02/22-rdf-syntax-ns#\">\n   <cc:Work>\n    <dc:type rdf:resource=\"http://purl.org/dc/dcmitype/StillImage\"/>\n    <dc:date>2020-12-07T20:03:51.360409</dc:date>\n    <dc:format>image/svg+xml</dc:format>\n    <dc:creator>\n     <cc:Agent>\n      <dc:title>Matplotlib v3.3.2, https://matplotlib.org/</dc:title>\n     </cc:Agent>\n    </dc:creator>\n   </cc:Work>\n  </rdf:RDF>\n </metadata>\n <defs>\n  <style type=\"text/css\">*{stroke-linecap:butt;stroke-linejoin:round;}</style>\n </defs>\n <g id=\"figure_1\">\n  <g id=\"patch_1\">\n   <path d=\"M 0 262.19625 \nL 383.003125 262.19625 \nL 383.003125 0 \nL 0 0 \nz\n\" style=\"fill:none;\"/>\n  </g>\n  <g id=\"axes_1\">\n   <g id=\"patch_2\">\n    <path d=\"M 41.003125 224.64 \nL 375.803125 224.64 \nL 375.803125 7.2 \nL 41.003125 7.2 \nz\n\" style=\"fill:#ffffff;\"/>\n   </g>\n   <g id=\"matplotlib.axis_1\">\n    <g id=\"xtick_1\">\n     <g id=\"line2d_1\">\n      <defs>\n       <path d=\"M 0 0 \nL 0 3.5 \n\" id=\"mc6a1b4b6db\" style=\"stroke:#000000;stroke-width:0.8;\"/>\n      </defs>\n      <g>\n       <use style=\"stroke:#000000;stroke-width:0.8;\" x=\"56.221307\" xlink:href=\"#mc6a1b4b6db\" y=\"224.64\"/>\n      </g>\n     </g>\n     <g id=\"text_1\">\n      <!-- 0 -->\n      <g transform=\"translate(53.040057 239.238438)scale(0.1 -0.1)\">\n       <defs>\n        <path d=\"M 31.78125 66.40625 \nQ 24.171875 66.40625 20.328125 58.90625 \nQ 16.5 51.421875 16.5 36.375 \nQ 16.5 21.390625 20.328125 13.890625 \nQ 24.171875 6.390625 31.78125 6.390625 \nQ 39.453125 6.390625 43.28125 13.890625 \nQ 47.125 21.390625 47.125 36.375 \nQ 47.125 51.421875 43.28125 58.90625 \nQ 39.453125 66.40625 31.78125 66.40625 \nz\nM 31.78125 74.21875 \nQ 44.046875 74.21875 50.515625 64.515625 \nQ 56.984375 54.828125 56.984375 36.375 \nQ 56.984375 17.96875 50.515625 8.265625 \nQ 44.046875 -1.421875 31.78125 -1.421875 \nQ 19.53125 -1.421875 13.0625 8.265625 \nQ 6.59375 17.96875 6.59375 36.375 \nQ 6.59375 54.828125 13.0625 64.515625 \nQ 19.53125 74.21875 31.78125 74.21875 \nz\n\" id=\"DejaVuSans-48\"/>\n       </defs>\n       <use xlink:href=\"#DejaVuSans-48\"/>\n      </g>\n     </g>\n    </g>\n    <g id=\"xtick_2\">\n     <g id=\"line2d_2\">\n      <g>\n       <use style=\"stroke:#000000;stroke-width:0.8;\" x=\"116.135408\" xlink:href=\"#mc6a1b4b6db\" y=\"224.64\"/>\n      </g>\n     </g>\n     <g id=\"text_2\">\n      <!-- 50 -->\n      <g transform=\"translate(109.772908 239.238438)scale(0.1 -0.1)\">\n       <defs>\n        <path d=\"M 10.796875 72.90625 \nL 49.515625 72.90625 \nL 49.515625 64.59375 \nL 19.828125 64.59375 \nL 19.828125 46.734375 \nQ 21.96875 47.46875 24.109375 47.828125 \nQ 26.265625 48.1875 28.421875 48.1875 \nQ 40.625 48.1875 47.75 41.5 \nQ 54.890625 34.8125 54.890625 23.390625 \nQ 54.890625 11.625 47.5625 5.09375 \nQ 40.234375 -1.421875 26.90625 -1.421875 \nQ 22.3125 -1.421875 17.546875 -0.640625 \nQ 12.796875 0.140625 7.71875 1.703125 \nL 7.71875 11.625 \nQ 12.109375 9.234375 16.796875 8.0625 \nQ 21.484375 6.890625 26.703125 6.890625 \nQ 35.15625 6.890625 40.078125 11.328125 \nQ 45.015625 15.765625 45.015625 23.390625 \nQ 45.015625 31 40.078125 35.4375 \nQ 35.15625 39.890625 26.703125 39.890625 \nQ 22.75 39.890625 18.8125 39.015625 \nQ 14.890625 38.140625 10.796875 36.28125 \nz\n\" id=\"DejaVuSans-53\"/>\n       </defs>\n       <use xlink:href=\"#DejaVuSans-53\"/>\n       <use x=\"63.623047\" xlink:href=\"#DejaVuSans-48\"/>\n      </g>\n     </g>\n    </g>\n    <g id=\"xtick_3\">\n     <g id=\"line2d_3\">\n      <g>\n       <use style=\"stroke:#000000;stroke-width:0.8;\" x=\"176.04951\" xlink:href=\"#mc6a1b4b6db\" y=\"224.64\"/>\n      </g>\n     </g>\n     <g id=\"text_3\">\n      <!-- 100 -->\n      <g transform=\"translate(166.50576 239.238438)scale(0.1 -0.1)\">\n       <defs>\n        <path d=\"M 12.40625 8.296875 \nL 28.515625 8.296875 \nL 28.515625 63.921875 \nL 10.984375 60.40625 \nL 10.984375 69.390625 \nL 28.421875 72.90625 \nL 38.28125 72.90625 \nL 38.28125 8.296875 \nL 54.390625 8.296875 \nL 54.390625 0 \nL 12.40625 0 \nz\n\" id=\"DejaVuSans-49\"/>\n       </defs>\n       <use xlink:href=\"#DejaVuSans-49\"/>\n       <use x=\"63.623047\" xlink:href=\"#DejaVuSans-48\"/>\n       <use x=\"127.246094\" xlink:href=\"#DejaVuSans-48\"/>\n      </g>\n     </g>\n    </g>\n    <g id=\"xtick_4\">\n     <g id=\"line2d_4\">\n      <g>\n       <use style=\"stroke:#000000;stroke-width:0.8;\" x=\"235.963612\" xlink:href=\"#mc6a1b4b6db\" y=\"224.64\"/>\n      </g>\n     </g>\n     <g id=\"text_4\">\n      <!-- 150 -->\n      <g transform=\"translate(226.419862 239.238438)scale(0.1 -0.1)\">\n       <use xlink:href=\"#DejaVuSans-49\"/>\n       <use x=\"63.623047\" xlink:href=\"#DejaVuSans-53\"/>\n       <use x=\"127.246094\" xlink:href=\"#DejaVuSans-48\"/>\n      </g>\n     </g>\n    </g>\n    <g id=\"xtick_5\">\n     <g id=\"line2d_5\">\n      <g>\n       <use style=\"stroke:#000000;stroke-width:0.8;\" x=\"295.877713\" xlink:href=\"#mc6a1b4b6db\" y=\"224.64\"/>\n      </g>\n     </g>\n     <g id=\"text_5\">\n      <!-- 200 -->\n      <g transform=\"translate(286.333963 239.238438)scale(0.1 -0.1)\">\n       <defs>\n        <path d=\"M 19.1875 8.296875 \nL 53.609375 8.296875 \nL 53.609375 0 \nL 7.328125 0 \nL 7.328125 8.296875 \nQ 12.9375 14.109375 22.625 23.890625 \nQ 32.328125 33.6875 34.8125 36.53125 \nQ 39.546875 41.84375 41.421875 45.53125 \nQ 43.3125 49.21875 43.3125 52.78125 \nQ 43.3125 58.59375 39.234375 62.25 \nQ 35.15625 65.921875 28.609375 65.921875 \nQ 23.96875 65.921875 18.8125 64.3125 \nQ 13.671875 62.703125 7.8125 59.421875 \nL 7.8125 69.390625 \nQ 13.765625 71.78125 18.9375 73 \nQ 24.125 74.21875 28.421875 74.21875 \nQ 39.75 74.21875 46.484375 68.546875 \nQ 53.21875 62.890625 53.21875 53.421875 \nQ 53.21875 48.921875 51.53125 44.890625 \nQ 49.859375 40.875 45.40625 35.40625 \nQ 44.1875 33.984375 37.640625 27.21875 \nQ 31.109375 20.453125 19.1875 8.296875 \nz\n\" id=\"DejaVuSans-50\"/>\n       </defs>\n       <use xlink:href=\"#DejaVuSans-50\"/>\n       <use x=\"63.623047\" xlink:href=\"#DejaVuSans-48\"/>\n       <use x=\"127.246094\" xlink:href=\"#DejaVuSans-48\"/>\n      </g>\n     </g>\n    </g>\n    <g id=\"xtick_6\">\n     <g id=\"line2d_6\">\n      <g>\n       <use style=\"stroke:#000000;stroke-width:0.8;\" x=\"355.791815\" xlink:href=\"#mc6a1b4b6db\" y=\"224.64\"/>\n      </g>\n     </g>\n     <g id=\"text_6\">\n      <!-- 250 -->\n      <g transform=\"translate(346.248065 239.238438)scale(0.1 -0.1)\">\n       <use xlink:href=\"#DejaVuSans-50\"/>\n       <use x=\"63.623047\" xlink:href=\"#DejaVuSans-53\"/>\n       <use x=\"127.246094\" xlink:href=\"#DejaVuSans-48\"/>\n      </g>\n     </g>\n    </g>\n    <g id=\"text_7\">\n     <!-- Día del año -->\n     <g transform=\"translate(179.989844 252.916563)scale(0.1 -0.1)\">\n      <defs>\n       <path d=\"M 19.671875 64.796875 \nL 19.671875 8.109375 \nL 31.59375 8.109375 \nQ 46.6875 8.109375 53.6875 14.9375 \nQ 60.6875 21.78125 60.6875 36.53125 \nQ 60.6875 51.171875 53.6875 57.984375 \nQ 46.6875 64.796875 31.59375 64.796875 \nz\nM 9.8125 72.90625 \nL 30.078125 72.90625 \nQ 51.265625 72.90625 61.171875 64.09375 \nQ 71.09375 55.28125 71.09375 36.53125 \nQ 71.09375 17.671875 61.125 8.828125 \nQ 51.171875 0 30.078125 0 \nL 9.8125 0 \nz\n\" id=\"DejaVuSans-68\"/>\n       <path d=\"M 20.65625 79.984375 \nL 30.375 79.984375 \nL 14.46875 61.625 \nL 6.984375 61.625 \nz\nM 9.421875 54.6875 \nL 18.40625 54.6875 \nL 18.40625 0 \nL 9.421875 0 \nz\nM 13.921875 56 \nz\n\" id=\"DejaVuSans-237\"/>\n       <path d=\"M 34.28125 27.484375 \nQ 23.390625 27.484375 19.1875 25 \nQ 14.984375 22.515625 14.984375 16.5 \nQ 14.984375 11.71875 18.140625 8.90625 \nQ 21.296875 6.109375 26.703125 6.109375 \nQ 34.1875 6.109375 38.703125 11.40625 \nQ 43.21875 16.703125 43.21875 25.484375 \nL 43.21875 27.484375 \nz\nM 52.203125 31.203125 \nL 52.203125 0 \nL 43.21875 0 \nL 43.21875 8.296875 \nQ 40.140625 3.328125 35.546875 0.953125 \nQ 30.953125 -1.421875 24.3125 -1.421875 \nQ 15.921875 -1.421875 10.953125 3.296875 \nQ 6 8.015625 6 15.921875 \nQ 6 25.140625 12.171875 29.828125 \nQ 18.359375 34.515625 30.609375 34.515625 \nL 43.21875 34.515625 \nL 43.21875 35.40625 \nQ 43.21875 41.609375 39.140625 45 \nQ 35.0625 48.390625 27.6875 48.390625 \nQ 23 48.390625 18.546875 47.265625 \nQ 14.109375 46.140625 10.015625 43.890625 \nL 10.015625 52.203125 \nQ 14.9375 54.109375 19.578125 55.046875 \nQ 24.21875 56 28.609375 56 \nQ 40.484375 56 46.34375 49.84375 \nQ 52.203125 43.703125 52.203125 31.203125 \nz\n\" id=\"DejaVuSans-97\"/>\n       <path id=\"DejaVuSans-32\"/>\n       <path d=\"M 45.40625 46.390625 \nL 45.40625 75.984375 \nL 54.390625 75.984375 \nL 54.390625 0 \nL 45.40625 0 \nL 45.40625 8.203125 \nQ 42.578125 3.328125 38.25 0.953125 \nQ 33.9375 -1.421875 27.875 -1.421875 \nQ 17.96875 -1.421875 11.734375 6.484375 \nQ 5.515625 14.40625 5.515625 27.296875 \nQ 5.515625 40.1875 11.734375 48.09375 \nQ 17.96875 56 27.875 56 \nQ 33.9375 56 38.25 53.625 \nQ 42.578125 51.265625 45.40625 46.390625 \nz\nM 14.796875 27.296875 \nQ 14.796875 17.390625 18.875 11.75 \nQ 22.953125 6.109375 30.078125 6.109375 \nQ 37.203125 6.109375 41.296875 11.75 \nQ 45.40625 17.390625 45.40625 27.296875 \nQ 45.40625 37.203125 41.296875 42.84375 \nQ 37.203125 48.484375 30.078125 48.484375 \nQ 22.953125 48.484375 18.875 42.84375 \nQ 14.796875 37.203125 14.796875 27.296875 \nz\n\" id=\"DejaVuSans-100\"/>\n       <path d=\"M 56.203125 29.59375 \nL 56.203125 25.203125 \nL 14.890625 25.203125 \nQ 15.484375 15.921875 20.484375 11.0625 \nQ 25.484375 6.203125 34.421875 6.203125 \nQ 39.59375 6.203125 44.453125 7.46875 \nQ 49.3125 8.734375 54.109375 11.28125 \nL 54.109375 2.78125 \nQ 49.265625 0.734375 44.1875 -0.34375 \nQ 39.109375 -1.421875 33.890625 -1.421875 \nQ 20.796875 -1.421875 13.15625 6.1875 \nQ 5.515625 13.8125 5.515625 26.8125 \nQ 5.515625 40.234375 12.765625 48.109375 \nQ 20.015625 56 32.328125 56 \nQ 43.359375 56 49.78125 48.890625 \nQ 56.203125 41.796875 56.203125 29.59375 \nz\nM 47.21875 32.234375 \nQ 47.125 39.59375 43.09375 43.984375 \nQ 39.0625 48.390625 32.421875 48.390625 \nQ 24.90625 48.390625 20.390625 44.140625 \nQ 15.875 39.890625 15.1875 32.171875 \nz\n\" id=\"DejaVuSans-101\"/>\n       <path d=\"M 9.421875 75.984375 \nL 18.40625 75.984375 \nL 18.40625 0 \nL 9.421875 0 \nz\n\" id=\"DejaVuSans-108\"/>\n       <path d=\"M 54.890625 33.015625 \nL 54.890625 0 \nL 45.90625 0 \nL 45.90625 32.71875 \nQ 45.90625 40.484375 42.875 44.328125 \nQ 39.84375 48.1875 33.796875 48.1875 \nQ 26.515625 48.1875 22.3125 43.546875 \nQ 18.109375 38.921875 18.109375 30.90625 \nL 18.109375 0 \nL 9.078125 0 \nL 9.078125 54.6875 \nL 18.109375 54.6875 \nL 18.109375 46.1875 \nQ 21.34375 51.125 25.703125 53.5625 \nQ 30.078125 56 35.796875 56 \nQ 45.21875 56 50.046875 50.171875 \nQ 54.890625 44.34375 54.890625 33.015625 \nz\nM 32.1875 66.890625 \nL 29.390625 69.578125 \nQ 28.328125 70.5625 27.515625 71.015625 \nQ 26.71875 71.484375 26.078125 71.484375 \nQ 24.21875 71.484375 23.34375 69.703125 \nQ 22.46875 67.921875 22.359375 63.921875 \nL 16.265625 63.921875 \nQ 16.359375 70.515625 18.84375 74.09375 \nQ 21.34375 77.6875 25.78125 77.6875 \nQ 27.640625 77.6875 29.203125 77 \nQ 30.765625 76.3125 32.578125 74.703125 \nL 35.359375 72.015625 \nQ 36.421875 71.046875 37.234375 70.578125 \nQ 38.046875 70.125 38.671875 70.125 \nQ 40.53125 70.125 41.40625 71.90625 \nQ 42.28125 73.6875 42.390625 77.6875 \nL 48.484375 77.6875 \nQ 48.390625 71.09375 45.890625 67.5 \nQ 43.40625 63.921875 38.96875 63.921875 \nQ 37.109375 63.921875 35.546875 64.59375 \nQ 33.984375 65.28125 32.1875 66.890625 \nz\n\" id=\"DejaVuSans-241\"/>\n       <path d=\"M 30.609375 48.390625 \nQ 23.390625 48.390625 19.1875 42.75 \nQ 14.984375 37.109375 14.984375 27.296875 \nQ 14.984375 17.484375 19.15625 11.84375 \nQ 23.34375 6.203125 30.609375 6.203125 \nQ 37.796875 6.203125 41.984375 11.859375 \nQ 46.1875 17.53125 46.1875 27.296875 \nQ 46.1875 37.015625 41.984375 42.703125 \nQ 37.796875 48.390625 30.609375 48.390625 \nz\nM 30.609375 56 \nQ 42.328125 56 49.015625 48.375 \nQ 55.71875 40.765625 55.71875 27.296875 \nQ 55.71875 13.875 49.015625 6.21875 \nQ 42.328125 -1.421875 30.609375 -1.421875 \nQ 18.84375 -1.421875 12.171875 6.21875 \nQ 5.515625 13.875 5.515625 27.296875 \nQ 5.515625 40.765625 12.171875 48.375 \nQ 18.84375 56 30.609375 56 \nz\n\" id=\"DejaVuSans-111\"/>\n      </defs>\n      <use xlink:href=\"#DejaVuSans-68\"/>\n      <use x=\"77.001953\" xlink:href=\"#DejaVuSans-237\"/>\n      <use x=\"104.785156\" xlink:href=\"#DejaVuSans-97\"/>\n      <use x=\"166.064453\" xlink:href=\"#DejaVuSans-32\"/>\n      <use x=\"197.851562\" xlink:href=\"#DejaVuSans-100\"/>\n      <use x=\"261.328125\" xlink:href=\"#DejaVuSans-101\"/>\n      <use x=\"322.851562\" xlink:href=\"#DejaVuSans-108\"/>\n      <use x=\"350.634766\" xlink:href=\"#DejaVuSans-32\"/>\n      <use x=\"382.421875\" xlink:href=\"#DejaVuSans-97\"/>\n      <use x=\"443.701172\" xlink:href=\"#DejaVuSans-241\"/>\n      <use x=\"507.080078\" xlink:href=\"#DejaVuSans-111\"/>\n     </g>\n    </g>\n   </g>\n   <g id=\"matplotlib.axis_2\">\n    <g id=\"ytick_1\">\n     <g id=\"line2d_7\">\n      <defs>\n       <path d=\"M 0 0 \nL -3.5 0 \n\" id=\"m2f4d87094b\" style=\"stroke:#000000;stroke-width:0.8;\"/>\n      </defs>\n      <g>\n       <use style=\"stroke:#000000;stroke-width:0.8;\" x=\"41.003125\" xlink:href=\"#m2f4d87094b\" y=\"194.989091\"/>\n      </g>\n     </g>\n     <g id=\"text_8\">\n      <!-- 2 -->\n      <g transform=\"translate(27.640625 198.78831)scale(0.1 -0.1)\">\n       <use xlink:href=\"#DejaVuSans-50\"/>\n      </g>\n     </g>\n    </g>\n    <g id=\"ytick_2\">\n     <g id=\"line2d_8\">\n      <g>\n       <use style=\"stroke:#000000;stroke-width:0.8;\" x=\"41.003125\" xlink:href=\"#m2f4d87094b\" y=\"155.454545\"/>\n      </g>\n     </g>\n     <g id=\"text_9\">\n      <!-- 4 -->\n      <g transform=\"translate(27.640625 159.253764)scale(0.1 -0.1)\">\n       <defs>\n        <path d=\"M 37.796875 64.3125 \nL 12.890625 25.390625 \nL 37.796875 25.390625 \nz\nM 35.203125 72.90625 \nL 47.609375 72.90625 \nL 47.609375 25.390625 \nL 58.015625 25.390625 \nL 58.015625 17.1875 \nL 47.609375 17.1875 \nL 47.609375 0 \nL 37.796875 0 \nL 37.796875 17.1875 \nL 4.890625 17.1875 \nL 4.890625 26.703125 \nz\n\" id=\"DejaVuSans-52\"/>\n       </defs>\n       <use xlink:href=\"#DejaVuSans-52\"/>\n      </g>\n     </g>\n    </g>\n    <g id=\"ytick_3\">\n     <g id=\"line2d_9\">\n      <g>\n       <use style=\"stroke:#000000;stroke-width:0.8;\" x=\"41.003125\" xlink:href=\"#m2f4d87094b\" y=\"115.92\"/>\n      </g>\n     </g>\n     <g id=\"text_10\">\n      <!-- 6 -->\n      <g transform=\"translate(27.640625 119.719219)scale(0.1 -0.1)\">\n       <defs>\n        <path d=\"M 33.015625 40.375 \nQ 26.375 40.375 22.484375 35.828125 \nQ 18.609375 31.296875 18.609375 23.390625 \nQ 18.609375 15.53125 22.484375 10.953125 \nQ 26.375 6.390625 33.015625 6.390625 \nQ 39.65625 6.390625 43.53125 10.953125 \nQ 47.40625 15.53125 47.40625 23.390625 \nQ 47.40625 31.296875 43.53125 35.828125 \nQ 39.65625 40.375 33.015625 40.375 \nz\nM 52.59375 71.296875 \nL 52.59375 62.3125 \nQ 48.875 64.0625 45.09375 64.984375 \nQ 41.3125 65.921875 37.59375 65.921875 \nQ 27.828125 65.921875 22.671875 59.328125 \nQ 17.53125 52.734375 16.796875 39.40625 \nQ 19.671875 43.65625 24.015625 45.921875 \nQ 28.375 48.1875 33.59375 48.1875 \nQ 44.578125 48.1875 50.953125 41.515625 \nQ 57.328125 34.859375 57.328125 23.390625 \nQ 57.328125 12.15625 50.6875 5.359375 \nQ 44.046875 -1.421875 33.015625 -1.421875 \nQ 20.359375 -1.421875 13.671875 8.265625 \nQ 6.984375 17.96875 6.984375 36.375 \nQ 6.984375 53.65625 15.1875 63.9375 \nQ 23.390625 74.21875 37.203125 74.21875 \nQ 40.921875 74.21875 44.703125 73.484375 \nQ 48.484375 72.75 52.59375 71.296875 \nz\n\" id=\"DejaVuSans-54\"/>\n       </defs>\n       <use xlink:href=\"#DejaVuSans-54\"/>\n      </g>\n     </g>\n    </g>\n    <g id=\"ytick_4\">\n     <g id=\"line2d_10\">\n      <g>\n       <use style=\"stroke:#000000;stroke-width:0.8;\" x=\"41.003125\" xlink:href=\"#m2f4d87094b\" y=\"76.385455\"/>\n      </g>\n     </g>\n     <g id=\"text_11\">\n      <!-- 8 -->\n      <g transform=\"translate(27.640625 80.184673)scale(0.1 -0.1)\">\n       <defs>\n        <path d=\"M 31.78125 34.625 \nQ 24.75 34.625 20.71875 30.859375 \nQ 16.703125 27.09375 16.703125 20.515625 \nQ 16.703125 13.921875 20.71875 10.15625 \nQ 24.75 6.390625 31.78125 6.390625 \nQ 38.8125 6.390625 42.859375 10.171875 \nQ 46.921875 13.96875 46.921875 20.515625 \nQ 46.921875 27.09375 42.890625 30.859375 \nQ 38.875 34.625 31.78125 34.625 \nz\nM 21.921875 38.8125 \nQ 15.578125 40.375 12.03125 44.71875 \nQ 8.5 49.078125 8.5 55.328125 \nQ 8.5 64.0625 14.71875 69.140625 \nQ 20.953125 74.21875 31.78125 74.21875 \nQ 42.671875 74.21875 48.875 69.140625 \nQ 55.078125 64.0625 55.078125 55.328125 \nQ 55.078125 49.078125 51.53125 44.71875 \nQ 48 40.375 41.703125 38.8125 \nQ 48.828125 37.15625 52.796875 32.3125 \nQ 56.78125 27.484375 56.78125 20.515625 \nQ 56.78125 9.90625 50.3125 4.234375 \nQ 43.84375 -1.421875 31.78125 -1.421875 \nQ 19.734375 -1.421875 13.25 4.234375 \nQ 6.78125 9.90625 6.78125 20.515625 \nQ 6.78125 27.484375 10.78125 32.3125 \nQ 14.796875 37.15625 21.921875 38.8125 \nz\nM 18.3125 54.390625 \nQ 18.3125 48.734375 21.84375 45.5625 \nQ 25.390625 42.390625 31.78125 42.390625 \nQ 38.140625 42.390625 41.71875 45.5625 \nQ 45.3125 48.734375 45.3125 54.390625 \nQ 45.3125 60.0625 41.71875 63.234375 \nQ 38.140625 66.40625 31.78125 66.40625 \nQ 25.390625 66.40625 21.84375 63.234375 \nQ 18.3125 60.0625 18.3125 54.390625 \nz\n\" id=\"DejaVuSans-56\"/>\n       </defs>\n       <use xlink:href=\"#DejaVuSans-56\"/>\n      </g>\n     </g>\n    </g>\n    <g id=\"ytick_5\">\n     <g id=\"line2d_11\">\n      <g>\n       <use style=\"stroke:#000000;stroke-width:0.8;\" x=\"41.003125\" xlink:href=\"#m2f4d87094b\" y=\"36.850909\"/>\n      </g>\n     </g>\n     <g id=\"text_12\">\n      <!-- 10 -->\n      <g transform=\"translate(21.278125 40.650128)scale(0.1 -0.1)\">\n       <use xlink:href=\"#DejaVuSans-49\"/>\n       <use x=\"63.623047\" xlink:href=\"#DejaVuSans-48\"/>\n      </g>\n     </g>\n    </g>\n    <g id=\"text_13\">\n     <!-- Consumo de energía (estado) -->\n     <g transform=\"translate(15.198438 190.118438)rotate(-90)scale(0.1 -0.1)\">\n      <defs>\n       <path d=\"M 64.40625 67.28125 \nL 64.40625 56.890625 \nQ 59.421875 61.53125 53.78125 63.8125 \nQ 48.140625 66.109375 41.796875 66.109375 \nQ 29.296875 66.109375 22.65625 58.46875 \nQ 16.015625 50.828125 16.015625 36.375 \nQ 16.015625 21.96875 22.65625 14.328125 \nQ 29.296875 6.6875 41.796875 6.6875 \nQ 48.140625 6.6875 53.78125 8.984375 \nQ 59.421875 11.28125 64.40625 15.921875 \nL 64.40625 5.609375 \nQ 59.234375 2.09375 53.4375 0.328125 \nQ 47.65625 -1.421875 41.21875 -1.421875 \nQ 24.65625 -1.421875 15.125 8.703125 \nQ 5.609375 18.84375 5.609375 36.375 \nQ 5.609375 53.953125 15.125 64.078125 \nQ 24.65625 74.21875 41.21875 74.21875 \nQ 47.75 74.21875 53.53125 72.484375 \nQ 59.328125 70.75 64.40625 67.28125 \nz\n\" id=\"DejaVuSans-67\"/>\n       <path d=\"M 54.890625 33.015625 \nL 54.890625 0 \nL 45.90625 0 \nL 45.90625 32.71875 \nQ 45.90625 40.484375 42.875 44.328125 \nQ 39.84375 48.1875 33.796875 48.1875 \nQ 26.515625 48.1875 22.3125 43.546875 \nQ 18.109375 38.921875 18.109375 30.90625 \nL 18.109375 0 \nL 9.078125 0 \nL 9.078125 54.6875 \nL 18.109375 54.6875 \nL 18.109375 46.1875 \nQ 21.34375 51.125 25.703125 53.5625 \nQ 30.078125 56 35.796875 56 \nQ 45.21875 56 50.046875 50.171875 \nQ 54.890625 44.34375 54.890625 33.015625 \nz\n\" id=\"DejaVuSans-110\"/>\n       <path d=\"M 44.28125 53.078125 \nL 44.28125 44.578125 \nQ 40.484375 46.53125 36.375 47.5 \nQ 32.28125 48.484375 27.875 48.484375 \nQ 21.1875 48.484375 17.84375 46.4375 \nQ 14.5 44.390625 14.5 40.28125 \nQ 14.5 37.15625 16.890625 35.375 \nQ 19.28125 33.59375 26.515625 31.984375 \nL 29.59375 31.296875 \nQ 39.15625 29.25 43.1875 25.515625 \nQ 47.21875 21.78125 47.21875 15.09375 \nQ 47.21875 7.46875 41.1875 3.015625 \nQ 35.15625 -1.421875 24.609375 -1.421875 \nQ 20.21875 -1.421875 15.453125 -0.5625 \nQ 10.6875 0.296875 5.421875 2 \nL 5.421875 11.28125 \nQ 10.40625 8.6875 15.234375 7.390625 \nQ 20.0625 6.109375 24.8125 6.109375 \nQ 31.15625 6.109375 34.5625 8.28125 \nQ 37.984375 10.453125 37.984375 14.40625 \nQ 37.984375 18.0625 35.515625 20.015625 \nQ 33.0625 21.96875 24.703125 23.78125 \nL 21.578125 24.515625 \nQ 13.234375 26.265625 9.515625 29.90625 \nQ 5.8125 33.546875 5.8125 39.890625 \nQ 5.8125 47.609375 11.28125 51.796875 \nQ 16.75 56 26.8125 56 \nQ 31.78125 56 36.171875 55.265625 \nQ 40.578125 54.546875 44.28125 53.078125 \nz\n\" id=\"DejaVuSans-115\"/>\n       <path d=\"M 8.5 21.578125 \nL 8.5 54.6875 \nL 17.484375 54.6875 \nL 17.484375 21.921875 \nQ 17.484375 14.15625 20.5 10.265625 \nQ 23.53125 6.390625 29.59375 6.390625 \nQ 36.859375 6.390625 41.078125 11.03125 \nQ 45.3125 15.671875 45.3125 23.6875 \nL 45.3125 54.6875 \nL 54.296875 54.6875 \nL 54.296875 0 \nL 45.3125 0 \nL 45.3125 8.40625 \nQ 42.046875 3.421875 37.71875 1 \nQ 33.40625 -1.421875 27.6875 -1.421875 \nQ 18.265625 -1.421875 13.375 4.4375 \nQ 8.5 10.296875 8.5 21.578125 \nz\nM 31.109375 56 \nz\n\" id=\"DejaVuSans-117\"/>\n       <path d=\"M 52 44.1875 \nQ 55.375 50.25 60.0625 53.125 \nQ 64.75 56 71.09375 56 \nQ 79.640625 56 84.28125 50.015625 \nQ 88.921875 44.046875 88.921875 33.015625 \nL 88.921875 0 \nL 79.890625 0 \nL 79.890625 32.71875 \nQ 79.890625 40.578125 77.09375 44.375 \nQ 74.3125 48.1875 68.609375 48.1875 \nQ 61.625 48.1875 57.5625 43.546875 \nQ 53.515625 38.921875 53.515625 30.90625 \nL 53.515625 0 \nL 44.484375 0 \nL 44.484375 32.71875 \nQ 44.484375 40.625 41.703125 44.40625 \nQ 38.921875 48.1875 33.109375 48.1875 \nQ 26.21875 48.1875 22.15625 43.53125 \nQ 18.109375 38.875 18.109375 30.90625 \nL 18.109375 0 \nL 9.078125 0 \nL 9.078125 54.6875 \nL 18.109375 54.6875 \nL 18.109375 46.1875 \nQ 21.1875 51.21875 25.484375 53.609375 \nQ 29.78125 56 35.6875 56 \nQ 41.65625 56 45.828125 52.96875 \nQ 50 49.953125 52 44.1875 \nz\n\" id=\"DejaVuSans-109\"/>\n       <path d=\"M 41.109375 46.296875 \nQ 39.59375 47.171875 37.8125 47.578125 \nQ 36.03125 48 33.890625 48 \nQ 26.265625 48 22.1875 43.046875 \nQ 18.109375 38.09375 18.109375 28.8125 \nL 18.109375 0 \nL 9.078125 0 \nL 9.078125 54.6875 \nL 18.109375 54.6875 \nL 18.109375 46.1875 \nQ 20.953125 51.171875 25.484375 53.578125 \nQ 30.03125 56 36.53125 56 \nQ 37.453125 56 38.578125 55.875 \nQ 39.703125 55.765625 41.0625 55.515625 \nz\n\" id=\"DejaVuSans-114\"/>\n       <path d=\"M 45.40625 27.984375 \nQ 45.40625 37.75 41.375 43.109375 \nQ 37.359375 48.484375 30.078125 48.484375 \nQ 22.859375 48.484375 18.828125 43.109375 \nQ 14.796875 37.75 14.796875 27.984375 \nQ 14.796875 18.265625 18.828125 12.890625 \nQ 22.859375 7.515625 30.078125 7.515625 \nQ 37.359375 7.515625 41.375 12.890625 \nQ 45.40625 18.265625 45.40625 27.984375 \nz\nM 54.390625 6.78125 \nQ 54.390625 -7.171875 48.1875 -13.984375 \nQ 42 -20.796875 29.203125 -20.796875 \nQ 24.46875 -20.796875 20.265625 -20.09375 \nQ 16.0625 -19.390625 12.109375 -17.921875 \nL 12.109375 -9.1875 \nQ 16.0625 -11.328125 19.921875 -12.34375 \nQ 23.78125 -13.375 27.78125 -13.375 \nQ 36.625 -13.375 41.015625 -8.765625 \nQ 45.40625 -4.15625 45.40625 5.171875 \nL 45.40625 9.625 \nQ 42.625 4.78125 38.28125 2.390625 \nQ 33.9375 0 27.875 0 \nQ 17.828125 0 11.671875 7.65625 \nQ 5.515625 15.328125 5.515625 27.984375 \nQ 5.515625 40.671875 11.671875 48.328125 \nQ 17.828125 56 27.875 56 \nQ 33.9375 56 38.28125 53.609375 \nQ 42.625 51.21875 45.40625 46.390625 \nL 45.40625 54.6875 \nL 54.390625 54.6875 \nz\n\" id=\"DejaVuSans-103\"/>\n       <path d=\"M 31 75.875 \nQ 24.46875 64.65625 21.28125 53.65625 \nQ 18.109375 42.671875 18.109375 31.390625 \nQ 18.109375 20.125 21.3125 9.0625 \nQ 24.515625 -2 31 -13.1875 \nL 23.1875 -13.1875 \nQ 15.875 -1.703125 12.234375 9.375 \nQ 8.59375 20.453125 8.59375 31.390625 \nQ 8.59375 42.28125 12.203125 53.3125 \nQ 15.828125 64.359375 23.1875 75.875 \nz\n\" id=\"DejaVuSans-40\"/>\n       <path d=\"M 18.3125 70.21875 \nL 18.3125 54.6875 \nL 36.8125 54.6875 \nL 36.8125 47.703125 \nL 18.3125 47.703125 \nL 18.3125 18.015625 \nQ 18.3125 11.328125 20.140625 9.421875 \nQ 21.96875 7.515625 27.59375 7.515625 \nL 36.8125 7.515625 \nL 36.8125 0 \nL 27.59375 0 \nQ 17.1875 0 13.234375 3.875 \nQ 9.28125 7.765625 9.28125 18.015625 \nL 9.28125 47.703125 \nL 2.6875 47.703125 \nL 2.6875 54.6875 \nL 9.28125 54.6875 \nL 9.28125 70.21875 \nz\n\" id=\"DejaVuSans-116\"/>\n       <path d=\"M 8.015625 75.875 \nL 15.828125 75.875 \nQ 23.140625 64.359375 26.78125 53.3125 \nQ 30.421875 42.28125 30.421875 31.390625 \nQ 30.421875 20.453125 26.78125 9.375 \nQ 23.140625 -1.703125 15.828125 -13.1875 \nL 8.015625 -13.1875 \nQ 14.5 -2 17.703125 9.0625 \nQ 20.90625 20.125 20.90625 31.390625 \nQ 20.90625 42.671875 17.703125 53.65625 \nQ 14.5 64.65625 8.015625 75.875 \nz\n\" id=\"DejaVuSans-41\"/>\n      </defs>\n      <use xlink:href=\"#DejaVuSans-67\"/>\n      <use x=\"69.824219\" xlink:href=\"#DejaVuSans-111\"/>\n      <use x=\"131.005859\" xlink:href=\"#DejaVuSans-110\"/>\n      <use x=\"194.384766\" xlink:href=\"#DejaVuSans-115\"/>\n      <use x=\"246.484375\" xlink:href=\"#DejaVuSans-117\"/>\n      <use x=\"309.863281\" xlink:href=\"#DejaVuSans-109\"/>\n      <use x=\"407.275391\" xlink:href=\"#DejaVuSans-111\"/>\n      <use x=\"468.457031\" xlink:href=\"#DejaVuSans-32\"/>\n      <use x=\"500.244141\" xlink:href=\"#DejaVuSans-100\"/>\n      <use x=\"563.720703\" xlink:href=\"#DejaVuSans-101\"/>\n      <use x=\"625.244141\" xlink:href=\"#DejaVuSans-32\"/>\n      <use x=\"657.03125\" xlink:href=\"#DejaVuSans-101\"/>\n      <use x=\"718.554688\" xlink:href=\"#DejaVuSans-110\"/>\n      <use x=\"781.933594\" xlink:href=\"#DejaVuSans-101\"/>\n      <use x=\"843.457031\" xlink:href=\"#DejaVuSans-114\"/>\n      <use x=\"882.820312\" xlink:href=\"#DejaVuSans-103\"/>\n      <use x=\"946.296875\" xlink:href=\"#DejaVuSans-237\"/>\n      <use x=\"974.080078\" xlink:href=\"#DejaVuSans-97\"/>\n      <use x=\"1035.359375\" xlink:href=\"#DejaVuSans-32\"/>\n      <use x=\"1067.146484\" xlink:href=\"#DejaVuSans-40\"/>\n      <use x=\"1106.160156\" xlink:href=\"#DejaVuSans-101\"/>\n      <use x=\"1167.683594\" xlink:href=\"#DejaVuSans-115\"/>\n      <use x=\"1219.783203\" xlink:href=\"#DejaVuSans-116\"/>\n      <use x=\"1258.992188\" xlink:href=\"#DejaVuSans-97\"/>\n      <use x=\"1320.271484\" xlink:href=\"#DejaVuSans-100\"/>\n      <use x=\"1383.748047\" xlink:href=\"#DejaVuSans-111\"/>\n      <use x=\"1444.929688\" xlink:href=\"#DejaVuSans-41\"/>\n     </g>\n    </g>\n   </g>\n   <g id=\"line2d_12\">\n    <path clip-path=\"url(#pa7b9e632c9)\" d=\"M 56.221307 214.756364 \nL 57.419589 115.92 \nL 59.816153 76.385455 \nL 61.014435 96.152727 \nL 62.212717 175.221818 \nL 63.410999 96.152727 \nL 64.609281 76.385455 \nL 65.807563 76.385455 \nL 67.005845 96.152727 \nL 68.204127 76.385455 \nL 69.402409 115.92 \nL 70.600691 175.221818 \nL 71.798973 96.152727 \nL 72.997255 76.385455 \nL 76.592101 76.385455 \nL 77.790383 96.152727 \nL 78.988665 155.454545 \nL 80.186947 76.385455 \nL 82.583512 76.385455 \nL 83.781794 56.618182 \nL 84.980076 56.618182 \nL 86.178358 96.152727 \nL 87.37664 155.454545 \nL 88.574922 56.618182 \nL 92.169768 56.618182 \nL 94.566332 96.152727 \nL 95.764614 155.454545 \nL 96.962896 76.385455 \nL 98.161178 56.618182 \nL 101.756024 56.618182 \nL 102.954306 115.92 \nL 104.152588 155.454545 \nL 105.35087 76.385455 \nL 107.747434 36.850909 \nL 108.945716 36.850909 \nL 111.34228 76.385455 \nL 112.540562 135.687273 \nL 113.738844 56.618182 \nL 114.937126 36.850909 \nL 118.531973 36.850909 \nL 119.730255 76.385455 \nL 120.928537 135.687273 \nL 122.126819 76.385455 \nL 123.325101 76.385455 \nL 124.523383 56.618182 \nL 126.919947 56.618182 \nL 128.118229 96.152727 \nL 129.316511 155.454545 \nL 130.514793 76.385455 \nL 131.713075 56.618182 \nL 135.307921 56.618182 \nL 137.704485 135.687273 \nL 138.902767 56.618182 \nL 140.101049 36.850909 \nL 143.695895 36.850909 \nL 144.894177 76.385455 \nL 146.092459 135.687273 \nL 147.290741 56.618182 \nL 148.489023 36.850909 \nL 150.885587 36.850909 \nL 152.083869 56.618182 \nL 154.480434 135.687273 \nL 155.678716 56.618182 \nL 156.876998 36.850909 \nL 158.07528 56.618182 \nL 159.273562 36.850909 \nL 160.471844 36.850909 \nL 161.670126 76.385455 \nL 162.868408 135.687273 \nL 164.06669 36.850909 \nL 167.661536 36.850909 \nL 168.859818 56.618182 \nL 171.256382 135.687273 \nL 172.454664 56.618182 \nL 173.652946 36.850909 \nL 174.851228 36.850909 \nL 176.04951 76.385455 \nL 177.247792 36.850909 \nL 178.446074 56.618182 \nL 179.644356 115.92 \nL 180.842638 36.850909 \nL 183.239202 76.385455 \nL 184.437484 155.454545 \nL 185.635766 194.989091 \nL 186.834048 155.454545 \nL 188.03233 175.221818 \nL 189.230612 76.385455 \nL 191.627177 36.850909 \nL 192.825459 36.850909 \nL 194.023741 17.083636 \nL 195.222023 56.618182 \nL 196.420305 115.92 \nL 197.618587 36.850909 \nL 198.816869 36.850909 \nL 200.015151 96.152727 \nL 201.213433 36.850909 \nL 202.411715 36.850909 \nL 204.808279 115.92 \nL 206.006561 36.850909 \nL 208.403125 36.850909 \nL 209.601407 56.618182 \nL 210.799689 56.618182 \nL 213.196253 135.687273 \nL 214.394535 56.618182 \nL 215.592817 36.850909 \nL 216.791099 36.850909 \nL 217.989381 56.618182 \nL 219.187663 56.618182 \nL 220.385945 96.152727 \nL 221.584227 155.454545 \nL 222.782509 76.385455 \nL 223.980791 56.618182 \nL 225.179073 76.385455 \nL 226.377355 56.618182 \nL 227.575638 76.385455 \nL 229.972202 155.454545 \nL 231.170484 96.152727 \nL 232.368766 76.385455 \nL 235.963612 76.385455 \nL 238.360176 155.454545 \nL 239.558458 56.618182 \nL 244.351586 56.618182 \nL 245.549868 96.152727 \nL 246.74815 155.454545 \nL 247.946432 76.385455 \nL 252.73956 76.385455 \nL 253.937842 96.152727 \nL 255.136124 155.454545 \nL 256.334406 56.618182 \nL 257.532688 36.850909 \nL 258.73097 36.850909 \nL 259.929252 56.618182 \nL 261.127534 56.618182 \nL 262.325816 96.152727 \nL 263.524099 155.454545 \nL 264.722381 76.385455 \nL 265.920663 56.618182 \nL 267.118945 76.385455 \nL 269.515509 76.385455 \nL 271.912073 155.454545 \nL 273.110355 96.152727 \nL 274.308637 76.385455 \nL 277.903483 76.385455 \nL 280.300047 155.454545 \nL 281.498329 96.152727 \nL 282.696611 76.385455 \nL 286.291457 76.385455 \nL 287.489739 115.92 \nL 288.688021 175.221818 \nL 289.886303 96.152727 \nL 292.282867 56.618182 \nL 293.481149 76.385455 \nL 294.679431 76.385455 \nL 295.877713 96.152727 \nL 297.075995 135.687273 \nL 298.274277 76.385455 \nL 299.47256 56.618182 \nL 300.670842 76.385455 \nL 301.869124 135.687273 \nL 303.067406 96.152727 \nL 304.265688 135.687273 \nL 305.46397 155.454545 \nL 306.662252 76.385455 \nL 307.860534 56.618182 \nL 310.257098 56.618182 \nL 311.45538 96.152727 \nL 312.653662 115.92 \nL 313.851944 175.221818 \nL 315.050226 76.385455 \nL 316.248508 56.618182 \nL 317.44679 76.385455 \nL 319.843354 76.385455 \nL 322.239918 155.454545 \nL 323.4382 96.152727 \nL 324.636482 76.385455 \nL 325.834764 96.152727 \nL 327.033046 194.989091 \nL 328.231328 115.92 \nL 329.42961 115.92 \nL 330.627892 175.221818 \nL 331.826174 96.152727 \nL 333.024456 76.385455 \nL 336.619303 76.385455 \nL 337.817585 96.152727 \nL 339.015867 155.454545 \nL 340.214149 76.385455 \nL 341.412431 56.618182 \nL 342.610713 56.618182 \nL 343.808995 76.385455 \nL 345.007277 76.385455 \nL 347.403841 155.454545 \nL 348.602123 76.385455 \nL 353.395251 76.385455 \nL 354.593533 115.92 \nL 355.791815 175.221818 \nL 356.990097 96.152727 \nL 358.188379 76.385455 \nL 360.584943 76.385455 \nL 360.584943 76.385455 \n\" style=\"fill:none;stroke:#1f77b4;stroke-linecap:square;stroke-width:1.5;\"/>\n   </g>\n   <g id=\"patch_3\">\n    <path d=\"M 41.003125 224.64 \nL 41.003125 7.2 \n\" style=\"fill:none;stroke:#000000;stroke-linecap:square;stroke-linejoin:miter;stroke-width:0.8;\"/>\n   </g>\n   <g id=\"patch_4\">\n    <path d=\"M 375.803125 224.64 \nL 375.803125 7.2 \n\" style=\"fill:none;stroke:#000000;stroke-linecap:square;stroke-linejoin:miter;stroke-width:0.8;\"/>\n   </g>\n   <g id=\"patch_5\">\n    <path d=\"M 41.003125 224.64 \nL 375.803125 224.64 \n\" style=\"fill:none;stroke:#000000;stroke-linecap:square;stroke-linejoin:miter;stroke-width:0.8;\"/>\n   </g>\n   <g id=\"patch_6\">\n    <path d=\"M 41.003125 7.2 \nL 375.803125 7.2 \n\" style=\"fill:none;stroke:#000000;stroke-linecap:square;stroke-linejoin:miter;stroke-width:0.8;\"/>\n   </g>\n  </g>\n </g>\n <defs>\n  <clipPath id=\"pa7b9e632c9\">\n   <rect height=\"217.44\" width=\"334.8\" x=\"41.003125\" y=\"7.2\"/>\n  </clipPath>\n </defs>\n</svg>\n",
      "image/png": "[encoded data removed]"
     },
     "metadata": {
      "needs_background": "light"
     }
    },
    {
     "output_type": "stream",
     "name": "stdout",
     "text": [
      "Pi_ij = 0.23684210526315788\n"
     ]
    }
   ],
   "source": [
    "import matplotlib.pyplot as plt\n",
    "\n",
    "# Importar los datos y calcular la energía diaria\n",
    "vector_energia = energia_diaria('demanda_2019.json')\n",
    "\n",
    "# Definir los estados\n",
    "numero_estados = 10\n",
    "vector_estados = definicion_estados(vector_energia, numero_estados)\n",
    "print(vector_estados)\n",
    "\n",
    "# Graficar la evolución de los estados\n",
    "plt.plot(vector_estados)\n",
    "plt.xlabel('Día del año')\n",
    "plt.ylabel('Consumo de energía (estado)')\n",
    "plt.show()\n",
    "\n",
    "# Definir la probabilidad de transición de \"i\" a \"j\"\n",
    "i, j = 10, 9\n",
    "Pi_ij = probabilidad_transicion(vector_estados, numero_estados, i, j)\n",
    "print('Pi_ij =', Pi_ij)"
   ]
  },
  {
   "cell_type": "markdown",
   "metadata": {},
   "source": [
    "---\n",
    "## 4. - Asignaciones del proyecto\n",
    "\n",
    "### Asignación de parámetros\n",
    "\n",
    "Las asignaciones requieren de valores de $t$, $i$, $j$ asignados según carné. "
   ]
  },
  {
   "cell_type": "code",
   "execution_count": 6,
   "metadata": {},
   "outputs": [],
   "source": [
    "from numpy import random\n",
    "from scipy import stats\n",
    "\n",
    "def parametros_asignados(digitos):\n",
    "    '''Elige un valor t aleatoriamente,\n",
    "    dos estados arbitrarios i y j\n",
    "    '''\n",
    "    \n",
    "    random.seed(digitos)\n",
    "    estados = [i+1 for i in range(10)]\n",
    "    T = stats.expon(2)\n",
    "    t = int(T.rvs())\n",
    "    i = estados[random.randint(0, len(estados))]\n",
    "    j = estados[random.randint(0, len(estados))]\n",
    "    print('t: {}, i: {}, j: {}'.format(t, i, j))\n",
    "    return t, i, j"
   ]
  },
  {
   "cell_type": "markdown",
   "metadata": {},
   "source": [
    "**Ejemplo**: el carné B12345 utiliza los dígitos 12345 y obtiene los parámetros $t$: 4, $i$: 2, $j$: 5."
   ]
  },
  {
   "cell_type": "code",
   "execution_count": 7,
   "metadata": {},
   "outputs": [
    {
     "output_type": "stream",
     "name": "stdout",
     "text": [
      "t: 2, i: 7, j: 1\n"
     ]
    }
   ],
   "source": [
    "t, i, j = parametros_asignados(57628)"
   ]
  },
  {
   "source": [
    "### 4.1. - Encuesta del curso\n",
    "\n",
    "* (30%) Completar la encuesta disponible a partir del lunes 7 de diciembre de 2020.\n",
    "\n",
    "\n",
    "\n"
   ],
   "cell_type": "markdown",
   "metadata": {}
  },
  {
   "source": [
    "### 4.2. - Construir la matriz de transición de estados\n",
    "\n",
    "* (30%) Para los datos dados, crear la matriz de probabilidades de transición de estados, considerando que el rango de valores de energía se divide en $N = 10$ estados, donde $i, j \\in \\{ 1, \\ldots, 10 \\}$ son estados particulares."
   ],
   "cell_type": "markdown",
   "metadata": {}
  },
  {
   "cell_type": "code",
   "execution_count": 9,
   "metadata": {},
   "outputs": [
    {
     "output_type": "stream",
     "name": "stdout",
     "text": [
      "[ 1.  6.  7.  8.  7.  3.  7.  8.  8.  7.  8.  6.  3.  7.  8.  8.  8.  8.\n  7.  4.  8.  8.  8.  9.  9.  7.  4.  9.  9.  9.  9.  8.  7.  4.  8.  9.\n  9.  9.  9.  6.  4.  8.  9. 10. 10.  9.  8.  5.  9. 10. 10. 10. 10.  8.\n  5.  8.  8.  9.  9.  9.  7.  4.  8.  9.  9.  9.  9.  7.  5.  9. 10. 10.\n 10. 10.  8.  5.  9. 10. 10. 10.  9.  7.  5.  9. 10.  9. 10. 10.  8.  5.\n 10. 10. 10. 10.  9.  7.  5.  9. 10. 10.  8. 10.  9.  6. 10.  9.  8.  4.\n  2.  4.  3.  8.  9. 10. 10. 11.  9.  6. 10. 10.  7. 10. 10.  8.  6. 10.\n 10. 10.  9.  9.  7.  5.  9. 10. 10.  9.  9.  7.  4.  8.  9.  8.  9.  8.\n  6.  4.  7.  8.  8.  8.  8.  6.  4.  9.  9.  9.  9.  9.  7.  4.  8.  8.\n  8.  8.  8.  7.  4.  9. 10. 10.  9.  9.  7.  4.  8.  9.  8.  8.  8.  6.\n  4.  7.  8.  8.  8.  8.  6.  4.  7.  8.  8.  8.  8.  6.  3.  7.  8.  9.\n  8.  8.  7.  5.  8.  9.  8.  5.  7.  5.  4.  8.  9.  9.  9.  7.  6.  3.\n  8.  9.  8.  8.  8.  6.  4.  7.  8.  7.  2.  6.  6.  3.  7.  8.  8.  8.\n  8.  7.  4.  8.  9.  9.  8.  8.  6.  4.  8.  8.  8.  8.  8.  6.  3.  7.\n  8.  8.  8.]\nLa matriz de transiciones es:\n\n[[0.         0.         0.         0.         0.         0.5\n  0.         0.         0.         0.        ]\n [0.         0.         0.         0.33333333 0.         0.33333333\n  0.         0.         0.         0.        ]\n [0.         0.         0.         0.         0.         0.\n  0.625      0.25       0.         0.        ]\n [0.         0.05       0.05       0.         0.         0.\n  0.2        0.5        0.15       0.        ]\n [0.         0.         0.         0.08333333 0.         0.\n  0.08333333 0.16666667 0.5        0.08333333]\n [0.         0.         0.27777778 0.38888889 0.         0.05555556\n  0.05555556 0.         0.         0.16666667]\n [0.         0.03225806 0.03225806 0.29032258 0.19354839 0.03225806\n  0.         0.35483871 0.         0.03225806]\n [0.         0.         0.         0.01333333 0.06666667 0.13333333\n  0.10666667 0.46666667 0.18666667 0.01333333]\n [0.         0.         0.         0.         0.         0.05357143\n  0.17857143 0.17857143 0.39285714 0.17857143]\n [0.         0.         0.         0.         0.         0.\n  0.02631579 0.13157895 0.23684211 0.55263158]]\n"
     ]
    }
   ],
   "source": [
    "##Con los valores  i:7, j:1\n",
    "import matplotlib.pyplot as plt\n",
    "\n",
    "# Definir los estados\n",
    "numero_estados2 = 10\n",
    "vector_estados2 = definicion_estados(vector_energia, numero_estados2)\n",
    "print(vector_estados2)\n",
    "\n",
    "i2, j2 = 7, 1\n",
    "\n",
    "##Determinamos matriz de transiciones\n",
    "matriz_transiciones = np.zeros((numero_estados2, numero_estados2))\n",
    "for i2 in range (0,len(matriz_transiciones)):\n",
    "    for j2 in range (0,len(matriz_transiciones[i2])):\n",
    "        matriz_transiciones[i2][j2]=probabilidad_transicion(vector_estados2, numero_estados2, i2+1, j2+1)\n",
    "print(\"La matriz de transiciones es:\\n\")\n",
    "print(matriz_transiciones)\n"
   ]
  },
  {
   "source": [
    "### 4.3. - Construcción de la matriz de transición de orden *t* predicción\n",
    "\n",
    "Para los valores obtenidos en `parametros_asignados()`:\n",
    "\n",
    "* (20%) Construir la matriz de transición de estados de orden $t$.\n",
    "\n",
    "* (20%) Determinar la probabilidad de estar en el estado $j$, $t$ días después de estar en el estado $i$."
   ],
   "cell_type": "markdown",
   "metadata": {}
  },
  {
   "cell_type": "code",
   "execution_count": 10,
   "metadata": {},
   "outputs": [
    {
     "output_type": "stream",
     "name": "stdout",
     "text": [
      "La matriz de orden 2 es: \n\n[[0.         0.         0.13888889 0.19444444 0.         0.02777778\n  0.02777778 0.         0.         0.08333333]\n [0.         0.01666667 0.10925926 0.12962963 0.         0.01851852\n  0.08518519 0.16666667 0.05       0.05555556]\n [0.         0.02016129 0.02016129 0.18478495 0.13763441 0.05349462\n  0.02666667 0.33844086 0.04666667 0.02349462]\n [0.         0.00645161 0.00645161 0.08139785 0.07204301 0.09782066\n  0.11136905 0.34358679 0.1522619  0.03990399]\n [0.         0.00685484 0.00685484 0.02641577 0.02724014 0.05169611\n  0.12592314 0.24926496 0.25977652 0.14024874]\n [0.         0.02123656 0.03666866 0.03773397 0.01075269 0.00487853\n  0.25886127 0.30553198 0.09780702 0.10315664]\n [0.         0.01451613 0.0234767  0.04415771 0.02365591 0.05985663\n  0.13484531 0.35531975 0.21419921 0.04406338]\n [0.         0.00410753 0.04114456 0.09459737 0.05175627 0.08307049\n  0.09909162 0.30849274 0.19893567 0.07814261]\n [0.         0.00576037 0.02064132 0.0750576  0.04646697 0.053592\n  0.09687612 0.24034669 0.2299633  0.18590716]\n [0.         0.0008489  0.0008489  0.00939445 0.01386531 0.03108073\n  0.07087126 0.18574928 0.24849294 0.35029818]]\n\n\nLa probabilidad P_i_ij es: 0.00410752688172043 \n\n"
     ]
    }
   ],
   "source": [
    "##Con los valores t:2, i:7, j:1\n",
    "import matplotlib.pyplot as plt\n",
    "import numpy as np\n",
    "from numpy import matmul\n",
    "\n",
    "\n",
    "#Se sabe que para obtener diferente orden, se multiplican las matrices. En este caso, t=2, entonces sería la matriz a la 2\n",
    "matriz_orden_t = np.matmul(matriz_transiciones, matriz_transiciones)\n",
    "print(\"La matriz de orden 2 es: \\n\")\n",
    "print(matriz_orden_t)\n",
    "print(\"\\n\")\n",
    "\n",
    "#Para determinar la probabilidad t días (2 días) después del estado i=7 sería la posicion i,j de la matriz\n",
    "print(\"La probabilidad P_i_ij es:\",matriz_orden_t[7][1], \"\\n\")\n",
    "\n"
   ]
  },
  {
   "cell_type": "markdown",
   "metadata": {},
   "source": [
    "---\n",
    "\n",
    "### Universidad de Costa Rica\n",
    "#### Facultad de Ingeniería\n",
    "##### Escuela de Ingeniería Eléctrica\n",
    "\n",
    "---"
   ]
  }
 ],
 "metadata": {
  "kernelspec": {
   "display_name": "Python 3",
   "language": "python",
   "name": "python3"
  },
  "language_info": {
   "codemirror_mode": {
    "name": "ipython",
    "version": 3
   },
   "file_extension": ".py",
   "mimetype": "text/x-python",
   "name": "python",
   "nbconvert_exporter": "python",
   "pygments_lexer": "ipython3",
   "version": "3.7.5-final"
  }
 },
 "nbformat": 4,
 "nbformat_minor": 2
}